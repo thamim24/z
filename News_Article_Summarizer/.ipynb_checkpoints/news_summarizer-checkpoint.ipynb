{
 "cells": [
  {
   "cell_type": "code",
   "execution_count": 2,
   "id": "7802f55f-2719-42ca-9cbb-61549d069929",
   "metadata": {
    "scrolled": true
   },
   "outputs": [
    {
     "data": {
      "application/vnd.jupyter.widget-view+json": {
       "model_id": "1d5a12d7d99d461aaae4e7cb41fcac93",
       "version_major": 2,
       "version_minor": 0
      },
      "text/plain": [
       "HTML(value='<h3>Article Summarization</h3>')"
      ]
     },
     "metadata": {},
     "output_type": "display_data"
    },
    {
     "data": {
      "application/vnd.jupyter.widget-view+json": {
       "model_id": "c32bccadedab424699f02f8acb607c7e",
       "version_major": 2,
       "version_minor": 0
      },
      "text/plain": [
       "RadioButtons(description='Input Type:', options=('URL', 'Text'), value='URL')"
      ]
     },
     "metadata": {},
     "output_type": "display_data"
    },
    {
     "data": {
      "application/vnd.jupyter.widget-view+json": {
       "model_id": "de678993e0db48f3b9ecf34171ea994b",
       "version_major": 2,
       "version_minor": 0
      },
      "text/plain": [
       "Text(value='', description='URL:')"
      ]
     },
     "metadata": {},
     "output_type": "display_data"
    },
    {
     "data": {
      "application/vnd.jupyter.widget-view+json": {
       "model_id": "7ddee7ba610a4778890dfe84ba7d6610",
       "version_major": 2,
       "version_minor": 0
      },
      "text/plain": [
       "Textarea(value='', description='Text:')"
      ]
     },
     "metadata": {},
     "output_type": "display_data"
    },
    {
     "data": {
      "application/vnd.jupyter.widget-view+json": {
       "model_id": "fc5a47b2a3c54cc2a912bf0d37c24a2f",
       "version_major": 2,
       "version_minor": 0
      },
      "text/plain": [
       "IntSlider(value=100, description='Max Length:', max=200, min=50, step=10)"
      ]
     },
     "metadata": {},
     "output_type": "display_data"
    },
    {
     "data": {
      "application/vnd.jupyter.widget-view+json": {
       "model_id": "b3703b6cba6c468e86fe4b5e7a845b88",
       "version_major": 2,
       "version_minor": 0
      },
      "text/plain": [
       "Checkbox(value=True, description='Include Sentiment')"
      ]
     },
     "metadata": {},
     "output_type": "display_data"
    },
    {
     "data": {
      "application/vnd.jupyter.widget-view+json": {
       "model_id": "cf5cb556e14a4138bd41fe15f58ce25b",
       "version_major": 2,
       "version_minor": 0
      },
      "text/plain": [
       "Checkbox(value=True, description='Include Entities')"
      ]
     },
     "metadata": {},
     "output_type": "display_data"
    },
    {
     "data": {
      "application/vnd.jupyter.widget-view+json": {
       "model_id": "4d9da6f73a954258b97b3ab9987e0f9b",
       "version_major": 2,
       "version_minor": 0
      },
      "text/plain": [
       "Checkbox(value=True, description='Include Topic')"
      ]
     },
     "metadata": {},
     "output_type": "display_data"
    },
    {
     "data": {
      "application/vnd.jupyter.widget-view+json": {
       "model_id": "dc60a85fbc144521a2b2eacd0b8f8ca8",
       "version_major": 2,
       "version_minor": 0
      },
      "text/plain": [
       "Button(description='Summarize', style=ButtonStyle())"
      ]
     },
     "metadata": {},
     "output_type": "display_data"
    },
    {
     "data": {
      "application/vnd.jupyter.widget-view+json": {
       "model_id": "e8cf472146d3482e9a311884a933bfd4",
       "version_major": 2,
       "version_minor": 0
      },
      "text/plain": [
       "Textarea(value='', description='Summary:', layout=Layout(height='200px', width='100%'))"
      ]
     },
     "metadata": {},
     "output_type": "display_data"
    },
    {
     "data": {
      "application/vnd.jupyter.widget-view+json": {
       "model_id": "17ad0880fd7d403ab41a7ed5f71c90e8",
       "version_major": 2,
       "version_minor": 0
      },
      "text/plain": [
       "HTML(value='<h3>Text Translation</h3>')"
      ]
     },
     "metadata": {},
     "output_type": "display_data"
    },
    {
     "data": {
      "application/vnd.jupyter.widget-view+json": {
       "model_id": "21483ed776314dc99234f18b7337b964",
       "version_major": 2,
       "version_minor": 0
      },
      "text/plain": [
       "Textarea(value='', description='Text to Translate:', layout=Layout(height='100px', width='100%'))"
      ]
     },
     "metadata": {},
     "output_type": "display_data"
    },
    {
     "data": {
      "application/vnd.jupyter.widget-view+json": {
       "model_id": "79104a2de20747f7b8c6ab65dc41cd7d",
       "version_major": 2,
       "version_minor": 0
      },
      "text/plain": [
       "Dropdown(description='Target Language:', options=('French', 'Tamil', 'German', 'Chinese', 'Hindi'), value='Fre…"
      ]
     },
     "metadata": {},
     "output_type": "display_data"
    },
    {
     "data": {
      "application/vnd.jupyter.widget-view+json": {
       "model_id": "a4d4935e11ea454aa658b6417fdf8234",
       "version_major": 2,
       "version_minor": 0
      },
      "text/plain": [
       "Button(description='Translate', style=ButtonStyle())"
      ]
     },
     "metadata": {},
     "output_type": "display_data"
    },
    {
     "data": {
      "application/vnd.jupyter.widget-view+json": {
       "model_id": "21ed47a46d1f4a9fa76605496748c75d",
       "version_major": 2,
       "version_minor": 0
      },
      "text/plain": [
       "Textarea(value='', description='Translated Text:', layout=Layout(height='100px', width='100%'))"
      ]
     },
     "metadata": {},
     "output_type": "display_data"
    }
   ],
   "source": [
    "# %% [markdown]\n",
    "# # News Article Summarizer Notebook\n",
    "\n",
    "# %% [markdown]\n",
    "# This notebook provides functionality for summarizing news articles and translating text using interactive widgets.\n",
    "\n",
    "# %%\n",
    "import sys\n",
    "import os\n",
    "from dotenv import load_dotenv\n",
    "from IPython.display import display, HTML\n",
    "\n",
    "sys.path.append('..')\n",
    "from models.llama_summarizer import LLaMASummarizer\n",
    "\n",
    "# Load environment variables from .env file\n",
    "load_dotenv()\n",
    "\n",
    "# Load GroqCloud API key\n",
    "api_key = os.environ.get('GROQ_API_KEY')\n",
    "if not api_key:\n",
    "    raise ValueError(\"Please set the GROQ_API_KEY in your .env file or environment variables\")\n",
    "\n",
    "# Initialize the summarizer\n",
    "summarizer = LLaMASummarizer(api_key)\n",
    "\n",
    "# %% [markdown]\n",
    "# ## Article Summarization\n",
    "\n",
    "# %%\n",
    "def summarize_article(input_type, article_input, max_length, sentiment, entities, topic):\n",
    "    if input_type == \"URL\":\n",
    "        print(f\"Fetching article from URL: {article_input}\")\n",
    "        result = summarizer.summarize_from_url(\n",
    "            article_input, \n",
    "            max_length=max_length, \n",
    "            sentiment=sentiment, \n",
    "            entities=entities, \n",
    "            topic=topic\n",
    "        )\n",
    "    else:\n",
    "        print(f\"Summarizing raw text...\")\n",
    "        result = summarizer.summarize(\n",
    "            article_input, \n",
    "            max_length=max_length, \n",
    "            sentiment=sentiment, \n",
    "            entities=entities, \n",
    "            topic=topic\n",
    "        )\n",
    "    return result\n",
    "\n",
    "# %% [markdown]\n",
    "# ## Text Translation\n",
    "\n",
    "# %%\n",
    "def translate_text(text_to_translate, target_language):\n",
    "    print(f\"Translating text to {target_language}...\")\n",
    "    translated_text = summarizer.translate(text_to_translate, target_language)\n",
    "    return translated_text\n",
    "\n",
    "# %% [markdown]\n",
    "# ## Interactive User Input\n",
    "# \n",
    "# Use the widgets below to summarize articles and translate text interactively.\n",
    "\n",
    "# %%\n",
    "from ipywidgets import widgets\n",
    "from IPython.display import display\n",
    "\n",
    "def summarize_button_clicked(b):\n",
    "    input_type = input_type_widget.value\n",
    "    article_input = url_input_widget.value if input_type == \"URL\" else text_input_widget.value\n",
    "    result = summarize_article(\n",
    "        input_type=input_type,\n",
    "        article_input=article_input,\n",
    "        max_length=max_length_widget.value,\n",
    "        sentiment=sentiment_widget.value,\n",
    "        entities=entities_widget.value,\n",
    "        topic=topic_widget.value\n",
    "    )\n",
    "    summary_output_widget.value = result\n",
    "\n",
    "def translate_button_clicked(b):\n",
    "    text_to_translate = translate_input_widget.value\n",
    "    target_language = translate_language_widget.value\n",
    "    translated_text = translate_text(text_to_translate, target_language)\n",
    "    translation_output_widget.value = translated_text\n",
    "\n",
    "# Summarization widgets\n",
    "input_type_widget = widgets.RadioButtons(options=['URL', 'Text'], description='Input Type:')\n",
    "url_input_widget = widgets.Text(description='URL:')\n",
    "text_input_widget = widgets.Textarea(description='Text:')\n",
    "max_length_widget = widgets.IntSlider(min=50, max=200, step=10, value=100, description='Max Length:')\n",
    "sentiment_widget = widgets.Checkbox(value=True, description='Include Sentiment')\n",
    "entities_widget = widgets.Checkbox(value=True, description='Include Entities')\n",
    "topic_widget = widgets.Checkbox(value=True, description='Include Topic')\n",
    "summarize_button = widgets.Button(description='Summarize')\n",
    "summary_output_widget = widgets.Textarea(description='Summary:', layout=widgets.Layout(width='100%', height='200px'))\n",
    "\n",
    "summarize_button.on_click(summarize_button_clicked)\n",
    "\n",
    "# Translation widgets\n",
    "translate_input_widget = widgets.Textarea(description='Text to Translate:', layout=widgets.Layout(width='100%', height='100px'))\n",
    "translate_language_widget = widgets.Dropdown(options=['French', 'Tamil', 'German', 'Chinese', 'Hindi'], description='Target Language:')\n",
    "translate_button = widgets.Button(description='Translate')\n",
    "translation_output_widget = widgets.Textarea(description='Translated Text:', layout=widgets.Layout(width='100%', height='100px'))\n",
    "\n",
    "translate_button.on_click(translate_button_clicked)\n",
    "\n",
    "# Display widgets\n",
    "display(widgets.HTML(\"<h3>Article Summarization</h3>\"))\n",
    "display(input_type_widget, url_input_widget, text_input_widget, max_length_widget, \n",
    "        sentiment_widget, entities_widget, topic_widget, summarize_button, summary_output_widget)\n",
    "\n",
    "display(widgets.HTML(\"<h3>Text Translation</h3>\"))\n",
    "display(translate_input_widget, translate_language_widget, translate_button, translation_output_widget)\n",
    "\n",
    "# %% [markdown]\n",
    "# This notebook provides an interactive way to use the news summarization and translation functionalities. Use the widgets above to input your own articles or text, adjust settings, and see the results in real-time."
   ]
  },
  {
   "cell_type": "code",
   "execution_count": null,
   "id": "c6ff8e5e-7b9f-4ce1-b92b-e113483a9798",
   "metadata": {},
   "outputs": [],
   "source": []
  },
  {
   "cell_type": "code",
   "execution_count": null,
   "id": "feac1d2f-c333-404a-8844-779aea4be6f6",
   "metadata": {},
   "outputs": [],
   "source": []
  }
 ],
 "metadata": {
  "kernelspec": {
   "display_name": "Python 3 (ipykernel)",
   "language": "python",
   "name": "python3"
  },
  "language_info": {
   "codemirror_mode": {
    "name": "ipython",
    "version": 3
   },
   "file_extension": ".py",
   "mimetype": "text/x-python",
   "name": "python",
   "nbconvert_exporter": "python",
   "pygments_lexer": "ipython3",
   "version": "3.11.1"
  }
 },
 "nbformat": 4,
 "nbformat_minor": 5
}
